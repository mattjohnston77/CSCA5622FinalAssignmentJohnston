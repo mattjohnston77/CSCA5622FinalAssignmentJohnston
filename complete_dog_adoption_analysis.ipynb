{
 "cells": [
  {
   "cell_type": "markdown",
   "metadata": {},
   "source": [
    "# Supervised Learning for Dog Adoption Analysis\n",
    "\n",
    "**Student Assignment: Machine Learning Analysis**\n",
    "\n",
    "## Problem Description\n",
    "\n",
    "This project aims to create a supervised learning solution that demonstrates and describes the EDA procedure and analysis (model building and training) for Random Forest for dog adoption. This assignment uses the dog adoption dataset from Kaggle: https://www.kaggle.com/datasets/thedevastator/adoptable-dogs-in-the-us?resource=download and takes the first 10,000 rows. \n",
    "\n",
    "**Objective**: Build a Random Forest classifier to analyze dog adoption patterns, perform comprehensive EDA, and demonstrate supervised learning techniques for understanding adoption likelihood based on dog characteristics for a dataset of \"Adoptable dogs\" that I have created."
   ]
  },
  {
   "cell_type": "code",
   "execution_count": null,
   "metadata": {},
   "outputs": [],
   "source": [
    "# Import necessary libraries\n",
    "import pandas as pd\n",
    "import numpy as np\n",
    "import matplotlib.pyplot as plt\n",
    "import seaborn as sns\n",
    "from sklearn.model_selection import train_test_split\n",
    "from sklearn.ensemble import RandomForestClassifier\n",
    "from sklearn.preprocessing import LabelEncoder\n",
    "from sklearn.metrics import classification_report, confusion_matrix, accuracy_score\n",
    "import warnings\n",
    "warnings.filterwarnings('ignore')\n",
    "\n",
    "plt.style.use('default')\n",
    "sns.set_palette(\"husl\")"
   ]
  },
  {
   "cell_type": "code",
   "execution_count": null,
   "metadata": {},
   "outputs": [],
   "source": [
    "# Load the dataset\n",
    "df = pd.read_csv('/dataset/allDogDescriptions_first10k.csv')\n",
    "print(f\"Dataset shape: {df.shape}\")\n",
    "print(f\"\\nFirst few rows:\")\n",
    "df.head()"
   ]
  },
  {
   "cell_type": "markdown",
   "metadata": {},
   "source": [
    "## 2. Exploratory Data Analysis (EDA)"
   ]
  },
  {
   "cell_type": "code",
   "execution_count": null,
   "metadata": {},
   "outputs": [],
   "source": [
    "# Basic dataset information\n",
    "print(\"Dataset Info:\")\n",
    "print(f\"Shape: {df.shape}\")\n",
    "print(f\"\\nColumns: {list(df.columns)}\")\n",
    "print(f\"\\nData types:\")\n",
    "df.dtypes"
   ]
  },
  {
   "cell_type": "code",
   "execution_count": null,
   "metadata": {},
   "outputs": [],
   "source": [
    "# Missing values analysis\n",
    "missing_data = df.isnull().sum()\n",
    "missing_percent = (missing_data / len(df)) * 100\n",
    "missing_df = pd.DataFrame({'Missing Count': missing_data, 'Percentage': missing_percent})\n",
    "missing_df = missing_df[missing_df['Missing Count'] > 0].sort_values('Missing Count', ascending=False)\n",
    "print(\"Missing Values:\")\n",
    "print(missing_df)"
   ]
  },
  {
   "cell_type": "code",
   "execution_count": null,
   "metadata": {},
   "outputs": [],
   "source": [
    "# Analyze key features\n",
    "fig, axes = plt.subplots(2, 2, figsize=(15, 10))\n",
    "\n",
    "# Age distribution\n",
    "df['age'].value_counts().plot(kind='bar', ax=axes[0,0])\n",
    "axes[0,0].set_title('Age Distribution')\n",
    "axes[0,0].tick_params(axis='x', rotation=45)\n",
    "\n",
    "# Size distribution\n",
    "df['size'].value_counts().plot(kind='bar', ax=axes[0,1])\n",
    "axes[0,1].set_title('Size Distribution')\n",
    "axes[0,1].tick_params(axis='x', rotation=45)\n",
    "\n",
    "# Sex distribution\n",
    "df['sex'].value_counts().plot(kind='bar', ax=axes[1,0])\n",
    "axes[1,0].set_title('Sex Distribution')\n",
    "axes[1,0].tick_params(axis='x', rotation=45)\n",
    "\n",
    "# Top breeds\n",
    "df['breed_primary'].value_counts().head(10).plot(kind='bar', ax=axes[1,1])\n",
    "axes[1,1].set_title('Top 10 Primary Breeds')\n",
    "axes[1,1].tick_params(axis='x', rotation=45)\n",
    "\n",
    "plt.tight_layout()\n",
    "plt.show()"
   ]
  },
  {
   "cell_type": "markdown",
   "metadata": {},
   "source": [
    "## 3. Data Preprocessing"
   ]
  },
  {
   "cell_type": "code",
   "execution_count": null,
   "metadata": {},
   "outputs": [],
   "source": [
    "# Create processed dataset\n",
    "df_processed = df.copy()\n",
    "\n",
    "# Create age groups\n",
    "def categorize_age_simple(age):\n",
    "    if age in ['Baby', 'Young', 'Adult']:\n",
    "        return 'Young'\n",
    "    else:\n",
    "        return 'Old'\n",
    "\n",
    "df_processed['age_simple'] = df_processed['age'].apply(categorize_age_simple)\n",
    "df_processed['target'] = df_processed['sex'] + '_' + df_processed['age_simple']\n",
    "\n",
    "# Select features\n",
    "features = ['size', 'breed_primary', 'color_primary', 'fixed', 'house_trained', 'shots_current']\n",
    "available_features = [f for f in features if f in df_processed.columns]\n",
    "\n",
    "X = df_processed[available_features].copy()\n",
    "y = df_processed['target']\n",
    "\n",
    "print(f\"Target distribution: {y.value_counts()}\")"
   ]
  },
  {
   "cell_type": "code",
   "execution_count": null,
   "metadata": {},
   "outputs": [],
   "source": [
    "# Handle missing values and encoding\n",
    "for col in X.columns:\n",
    "    if X[col].dtype == 'object':\n",
    "        X[col] = X[col].fillna('Unknown')\n",
    "        le = LabelEncoder()\n",
    "        X[col] = le.fit_transform(X[col].astype(str))\n",
    "    else:\n",
    "        X[col] = X[col].astype(int)\n",
    "\n",
    "print(f\"Before outlier removal - Target distribution:\")\n",
    "print(y.value_counts())\n",
    "\n",
    "# Remove classes with only 1 member (outliers) to avoid stratification errors\n",
    "class_counts = y.value_counts()\n",
    "classes_to_remove = class_counts[class_counts == 1].index\n",
    "if len(classes_to_remove) > 0:\n",
    "    print(f\"\\nRemoving classes with only 1 member (outliers): {list(classes_to_remove)}\")\n",
    "    mask = ~y.isin(classes_to_remove)\n",
    "    X = X[mask]\n",
    "    y = y[mask]\n",
    "    print(f\"Removed {len(classes_to_remove)} outlier classes\")\n",
    "else:\n",
    "    print(\"\\nNo single-member classes found to remove\")\n",
    "\n",
    "print(f\"\\nAfter outlier removal - Target distribution:\")\n",
    "print(y.value_counts())\n",
    "print(f\"\\nFinal feature matrix shape: {X.shape}\")\n",
    "X.head()"
   ]
  },
  {
   "cell_type": "markdown",
   "metadata": {},
   "source": [
    "## 4. Random Forest Model Training"
   ]
  },
  {
   "cell_type": "code",
   "execution_count": null,
   "metadata": {},
   "outputs": [],
   "source": [
    "# Debug: Check for single-member classes before splitting\n",
    "print(\"Checking target distribution before train_test_split:\")\n",
    "class_counts = y.value_counts()\n",
    "print(class_counts)\n",
    "single_member_classes = class_counts[class_counts == 1]\n",
    "if len(single_member_classes) > 0:\n",
    "    print(f\"\\nFound single-member classes: {list(single_member_classes.index)}\")\n",
    "    print(\"Removing these classes to fix stratification error...\")\n",
    "    mask = ~y.isin(single_member_classes.index)\n",
    "    X = X[mask]\n",
    "    y = y[mask]\n",
    "    print(f\"\\nAfter removal - Final target distribution:\")\n",
    "    print(y.value_counts())\n",
    "    print(f\"Final dataset shape: {X.shape}\")\n",
    "else:\n",
    "    print(\"No single-member classes found.\")"
   ]
  },
  {
   "cell_type": "code",
   "execution_count": null,
   "metadata": {},
   "outputs": [],
   "source": [
    "# Split data\n",
    "X_train, X_test, y_train, y_test = train_test_split(X, y, test_size=0.2, random_state=42, stratify=y)\n",
    "\n",
    "# Train Random Forest\n",
    "rf_model = RandomForestClassifier(n_estimators=100, random_state=42)\n",
    "rf_model.fit(X_train, y_train)\n",
    "\n",
    "# Predictions\n",
    "y_pred = rf_model.predict(X_test)\n",
    "accuracy = accuracy_score(y_test, y_pred)\n",
    "\n",
    "print(f\"Model Accuracy: {accuracy:.4f}\")\n",
    "print(\"\\nClassification Report:\")\n",
    "print(classification_report(y_test, y_pred))"
   ]
  },
  {
   "cell_type": "code",
   "execution_count": null,
   "metadata": {},
   "outputs": [],
   "source": [
    "# Feature importance\n",
    "feature_importance = pd.DataFrame({\n",
    "    'feature': X.columns,\n",
    "    'importance': rf_model.feature_importances_\n",
    "}).sort_values('importance', ascending=False)\n",
    "\n",
    "plt.figure(figsize=(10, 6))\n",
    "sns.barplot(data=feature_importance, x='importance', y='feature')\n",
    "plt.title('Feature Importance')\n",
    "plt.tight_layout()\n",
    "plt.show()\n",
    "\n",
    "print(feature_importance)"
   ]
  },
  {
   "cell_type": "markdown",
   "metadata": {},
   "source": [
    "## 5. Breed Prediction Analysis"
   ]
  },
  {
   "cell_type": "code",
   "execution_count": null,
   "metadata": {},
   "outputs": [],
   "source": [
    "# Breed prediction setup\n",
    "top_breeds = df_processed['breed_primary'].value_counts().head(10).index\n",
    "breed_df = df_processed[df_processed['breed_primary'].isin(top_breeds)].copy()\n",
    "\n",
    "breed_features = ['age', 'sex', 'size', 'color_primary']\n",
    "available_breed_features = [f for f in breed_features if f in breed_df.columns]\n",
    "\n",
    "X_breed = breed_df[available_breed_features].copy()\n",
    "y_breed = breed_df['breed_primary']\n",
    "\n",
    "# Encode features\n",
    "for col in X_breed.columns:\n",
    "    if X_breed[col].dtype == 'object':\n",
    "        X_breed[col] = X_breed[col].fillna('Unknown')\n",
    "        le = LabelEncoder()\n",
    "        X_breed[col] = le.fit_transform(X_breed[col].astype(str))\n",
    "\n",
    "print(f\"Breed prediction dataset size: {len(breed_df)}\")\n",
    "print(f\"Top breeds: {list(top_breeds)}\")"
   ]
  },
  {
   "cell_type": "code",
   "execution_count": null,
   "metadata": {},
   "outputs": [],
   "source": [
    "# Train breed model\n",
    "X_breed_train, X_breed_test, y_breed_train, y_breed_test = train_test_split(\n",
    "    X_breed, y_breed, test_size=0.2, random_state=42, stratify=y_breed\n",
    ")\n",
    "\n",
    "rf_breed = RandomForestClassifier(n_estimators=100, random_state=42)\n",
    "rf_breed.fit(X_breed_train, y_breed_train)\n",
    "\n",
    "y_breed_pred = rf_breed.predict(X_breed_test)\n",
    "breed_accuracy = accuracy_score(y_breed_test, y_breed_pred)\n",
    "\n",
    "print(f\"Breed Prediction Accuracy: {breed_accuracy:.4f}\")"
   ]
  },
  {
   "cell_type": "markdown",
   "metadata": {},
   "source": [
    "## 6. Size Classification Analysis"
   ]
  },
  {
   "cell_type": "code",
   "execution_count": null,
   "metadata": {},
   "outputs": [],
   "source": [
    "# Size classification setup\n",
    "size_df = df_processed.dropna(subset=['size']).copy()\n",
    "size_features = ['age', 'sex', 'breed_primary', 'color_primary']\n",
    "available_size_features = [f for f in size_features if f in size_df.columns]\n",
    "\n",
    "X_size = size_df[available_size_features].copy()\n",
    "y_size = size_df['size']\n",
    "\n",
    "# Encode features\n",
    "for col in X_size.columns:\n",
    "    if X_size[col].dtype == 'object':\n",
    "        X_size[col] = X_size[col].fillna('Unknown')\n",
    "        le = LabelEncoder()\n",
    "        X_size[col] = le.fit_transform(X_size[col].astype(str))\n",
    "\n",
    "print(f\"Size distribution: {y_size.value_counts()}\")"
   ]
  },
  {
   "cell_type": "code",
   "execution_count": null,
   "metadata": {},
   "outputs": [],
   "source": [
    "# Train size model\n",
    "X_size_train, X_size_test, y_size_train, y_size_test = train_test_split(\n",
    "    X_size, y_size, test_size=0.2, random_state=42, stratify=y_size\n",
    ")\n",
    "\n",
    "rf_size = RandomForestClassifier(n_estimators=100, random_state=42)\n",
    "rf_size.fit(X_size_train, y_size_train)\n",
    "\n",
    "y_size_pred = rf_size.predict(X_size_test)\n",
    "size_accuracy = accuracy_score(y_size_test, y_size_pred)\n",
    "\n",
    "print(f\"Size Classification Accuracy: {size_accuracy:.4f}\")\n",
    "print(f\"\\nClassification Report:\")\n",
    "print(classification_report(y_size_test, y_size_pred))"
   ]
  },
  {
   "cell_type": "markdown",
   "metadata": {},
   "source": [
    "## 7. Top 3 Sex-Age Combinations"
   ]
  },
  {
   "cell_type": "code",
   "execution_count": null,
   "metadata": {},
   "outputs": [],
   "source": [
    "# Analyze sex-age combinations\n",
    "target_counts = df_processed['target'].value_counts()\n",
    "target_props = df_processed['target'].value_counts(normalize=True)\n",
    "\n",
    "print(\"=== TOP 3 SEX-AGE COMBINATIONS ===\")\n",
    "for i, (combo, count) in enumerate(target_counts.head(3).items()):\n",
    "    prop = target_props[combo]\n",
    "    print(f\"{i+1}. {combo.replace('_', ' ')}: {count} dogs ({prop*100:.1f}%)\")\n",
    "\n",
    "# Visualize\n",
    "plt.figure(figsize=(10, 6))\n",
    "target_counts.plot(kind='bar')\n",
    "plt.title('Sex-Age Combinations Distribution')\n",
    "plt.xlabel('Combination')\n",
    "plt.ylabel('Count')\n",
    "plt.xticks(rotation=45)\n",
    "plt.tight_layout()\n",
    "plt.show()"
   ]
  },
  {
   "cell_type": "markdown",
   "metadata": {},
   "source": [
    "## 8. Model Performance Summary"
   ]
  },
  {
   "cell_type": "code",
   "execution_count": null,
   "metadata": {},
   "outputs": [],
   "source": [
    "# Summary of all models\n",
    "print(\"=== MODEL PERFORMANCE SUMMARY ===\")\n",
    "print(f\"Sex-Age Classification Accuracy: {accuracy:.4f}\")\n",
    "print(f\"Breed Prediction Accuracy: {breed_accuracy:.4f}\")\n",
    "print(f\"Size Classification Accuracy: {size_accuracy:.4f}\")\n",
    "\n",
    "# Create summary visualization\n",
    "models = ['Sex-Age', 'Breed', 'Size']\n",
    "accuracies = [accuracy, breed_accuracy, size_accuracy]\n",
    "\n",
    "plt.figure(figsize=(10, 6))\n",
    "sns.barplot(x=models, y=accuracies)\n",
    "plt.title('Random Forest Model Performance Comparison')\n",
    "plt.ylabel('Accuracy')\n",
    "plt.ylim(0, 1)\n",
    "for i, v in enumerate(accuracies):\n",
    "    plt.text(i, v + 0.01, f'{v:.3f}', ha='center')\n",
    "plt.tight_layout()\n",
    "plt.show()"
   ]
  },
  {
   "cell_type": "markdown",
   "metadata": {},
   "source": [
    "## Conclusions\n",
    "\n",
    "### EDA Findings\n",
    "- I used EDA to perform an analysis on the source dataset. I analyzed for dog charecteristics and distributions, identified key patterns in age, sex, size and breed and performed handling for missing values and schema mismatches.\n",
    "\n",
    "### Random Forest Applications\n",
    "I used random forest to analyse the dataset. This allowed me to demonstrate three Random Forest applications:\n",
    "\n",
    "1. **Sex-Age Classification**: Demographic pattern analysis of age /sex\n",
    "2. **Breed Prediction**: Identification and verification of dog breeds\n",
    "3. **Size Classification**: Which would allow for better planning of where to send dogs (shelters that can take small dogs vs large dogs, how to set up new shelter areas etc.)\n",
    "\n",
    "### Key Insights\n",
    "- Random Forest proved effective across multiple classification tasks\n",
    "- Feature importance analysis revealed key predictive characteristics\n",
    "\n",
    "## Next Step: Can I use this to classify the adoptability of new dogs?"
   ]
  },
  {
   "cell_type": "markdown",
   "metadata": {},
   "source": [
    "## 9. Adoptability Prediction Test on Unadopted Dogs"
   ]
  },
  {
   "cell_type": "code",
   "execution_count": null,
   "metadata": {},
   "outputs": [],
   "source": [
    "# I created a random selection of 10 dogs here based on charecteristics taken from the source dataset but setting dogs to status = not_adopted.\n",
    "test_df = pd.read_csv('test_unadopted_dogs.csv')\n",
    "print(\"Test Dataset - Unadopted Dogs:\")\n",
    "print(test_df)\n",
    "print(f\"\\nTest dataset shape: {test_df.shape}\")"
   ]
  },
  {
   "cell_type": "code",
   "execution_count": null,
   "metadata": {},
   "outputs": [],
   "source": [
    "# Prepare test data for prediction using same preprocessing\n",
    "test_df['age_simple'] = test_df['age'].apply(categorize_age_simple)\n",
    "test_df['target'] = test_df['sex'] + '_' + test_df['age_simple']\n",
    "\n",
    "# Prepare features matching training data\n",
    "X_test_new = test_df[available_features].copy()\n",
    "\n",
    "# Encode features using same approach as training\n",
    "for col in X_test_new.columns:\n",
    "    if X_test_new[col].dtype == 'object':\n",
    "        X_test_new[col] = X_test_new[col].fillna('Unknown')\n",
    "        le = LabelEncoder()\n",
    "        # Combine training and test values to handle unseen categories\n",
    "        combined_values = list(X[col].unique()) + list(X_test_new[col].unique())\n",
    "        le.fit(combined_values)\n",
    "        X_test_new[col] = le.transform(X_test_new[col].astype(str))\n",
    "    else:\n",
    "        X_test_new[col] = X_test_new[col].astype(int)\n",
    "\n",
    "print(\"Processed test features:\")\n",
    "print(X_test_new.head())"
   ]
  },
  {
   "cell_type": "code",
   "execution_count": null,
   "metadata": {},
   "outputs": [],
   "source": [
    "# Make predictions using the trained Random Forest model\n",
    "predictions = rf_model.predict(X_test_new)\n",
    "prediction_probs = rf_model.predict_proba(X_test_new)\n",
    "\n",
    "# Create results dataframe\n",
    "results_df = test_df[['age', 'sex', 'size', 'breed_primary', 'special_needs']].copy()\n",
    "results_df['Predicted_Category'] = predictions\n",
    "results_df['Adoptability_Score'] = prediction_probs.max(axis=1)\n",
    "\n",
    "print(\"Adoptability Predictions for Unadopted Dogs:\")\n",
    "print(results_df)"
   ]
  },
  {
   "cell_type": "code",
   "execution_count": null,
   "metadata": {},
   "outputs": [],
   "source": [
    "# Create Viz\n",
    "fig, (ax1, ax2) = plt.subplots(1, 2, figsize=(16, 6))\n",
    "\n",
    "# Plot 1: Predicted categories distribution\n",
    "category_counts = pd.Series(predictions).value_counts()\n",
    "category_counts.plot(kind='bar', ax=ax1, color='skyblue')\n",
    "ax1.set_title('Predicted Sex-Age Categories for Unadopted Dogs')\n",
    "ax1.set_xlabel('Predicted Category')\n",
    "ax1.set_ylabel('Count')\n",
    "ax1.tick_params(axis='x', rotation=45)\n",
    "\n",
    "# Plot 2: Individual adoptability confidence scores\n",
    "dog_names = [f'Dog {i+1}' for i in range(len(results_df))]\n",
    "colors = ['red' if score < 0.5 else 'orange' if score < 0.7 else 'green' \n",
    "          for score in results_df['Adoptability_Score']]\n",
    "\n",
    "bars = ax2.bar(dog_names, results_df['Adoptability_Score'], color=colors)\n",
    "ax2.set_title('Adoptability Confidence Scores by Dog')\n",
    "ax2.set_xlabel('Individual Dogs')\n",
    "ax2.set_ylabel('Model Confidence Score')\n",
    "ax2.set_ylim(0, 1)\n",
    "ax2.tick_params(axis='x', rotation=45)\n",
    "\n",
    "# Add score labels on bars\n",
    "for bar, score in zip(bars, results_df['Adoptability_Score']):\n",
    "    ax2.text(bar.get_x() + bar.get_width()/2, bar.get_height() + 0.01, \n",
    "             f'{score:.3f}', ha='center', va='bottom', fontsize=9)\n",
    "\n",
    "plt.tight_layout()\n",
    "plt.show()\n",
    "\n",
    "print(\"\\nConfidence Score Legend:\")\n",
    "print(\"🔴 Red: Low confidence (< 0.5) - May need special attention\")\n",
    "print(\"🟠 Orange: Medium confidence (0.5-0.7) - Moderate adoption potential\")\n",
    "print(\"🟢 Green: High confidence (> 0.7) - High adoption potential\")"
   ]
  },
  {
   "cell_type": "code",
   "execution_count": null,
   "metadata": {},
   "outputs": [],
   "source": [
    "# Detailed analysis and recommendations\n",
    "print(\"=== DETAILED ADOPTABILITY ANALYSIS ===\")\n",
    "for i, row in results_df.iterrows():\n",
    "    print(f\"\\nDog {i+1}: {row['age']} {row['sex']} {row['breed_primary']}\")\n",
    "    print(f\"  Size: {row['size']}, Special Needs: {row['special_needs']}\")\n",
    "    print(f\"  Predicted Category: {row['Predicted_Category']}\")\n",
    "    print(f\"  Confidence Score: {row['Adoptability_Score']:.3f}\")\n",
    "    \n",
    "    if row['Adoptability_Score'] > 0.7:\n",
    "        recommendation = \"High adoption potential - prioritize for adoption events\"\n",
    "    elif row['Adoptability_Score'] > 0.5:\n",
    "        recommendation = \"Moderate potential - consider targeted marketing\"\n",
    "    else:\n",
    "        recommendation = \"Needs special attention - may require behavioral/medical support\"\n",
    "    \n",
    "    print(f\"  Recommendation: {recommendation}\")\n",
    "\n",
    "# Summary statistics and actionable insights\n",
    "high_potential = (results_df['Adoptability_Score'] > 0.7).sum()\n",
    "medium_potential = ((results_df['Adoptability_Score'] > 0.5) & \n",
    "                   (results_df['Adoptability_Score'] <= 0.7)).sum()\n",
    "low_potential = (results_df['Adoptability_Score'] <= 0.5).sum()\n",
    "\n",
    "print(f\"\\n=== SHELTER MANAGEMENT SUMMARY ===\")\n",
    "print(f\"High adoption potential: {high_potential} dogs ({high_potential/len(results_df)*100:.1f}%)\")\n",
    "print(f\"Medium adoption potential: {medium_potential} dogs ({medium_potential/len(results_df)*100:.1f}%)\")\n",
    "print(f\"Need special attention: {low_potential} dogs ({low_potential/len(results_df)*100:.1f}%)\")"
   ]
  },
  {
   "cell_type": "code",
   "execution_count": null,
   "metadata": {},
   "outputs": [],
   "source": [
    "# Create summary visualization\n",
    "fig, (ax1, ax2) = plt.subplots(1, 2, figsize=(15, 6))\n",
    "\n",
    "# Pie chart of adoptability distribution\n",
    "labels = ['High Potential', 'Medium Potential', 'Need Attention']\n",
    "sizes = [high_potential, medium_potential, low_potential]\n",
    "colors = ['green', 'orange', 'red']\n",
    "ax1.pie(sizes, labels=labels, colors=colors, autopct='%1.1f%%', startangle=90)\n",
    "ax1.set_title('Adoptability Distribution for Unadopted Dogs')\n",
    "\n",
    "# Bar chart comparing all model accuracies\n",
    "models = ['Sex-Age\\nClassification', 'Breed\\nPrediction', 'Size\\nClassification']\n",
    "accuracies = [accuracy, breed_accuracy, size_accuracy]\n",
    "bars = ax2.bar(models, accuracies, color=['lightblue', 'lightgreen', 'lightcoral'])\n",
    "ax2.set_title('Random Forest Model Performance Summary')\n",
    "ax2.set_ylabel('Accuracy')\n",
    "ax2.set_ylim(0, 1)\n",
    "\n",
    "# Add accuracy labels\n",
    "for bar, acc in zip(bars, accuracies):\n",
    "    ax2.text(bar.get_x() + bar.get_width()/2, bar.get_height() + 0.01, \n",
    "             f'{acc:.3f}', ha='center', va='bottom')\n",
    "\n",
    "plt.tight_layout()\n",
    "plt.show()"
   ]
  },
  {
   "cell_type": "markdown",
   "metadata": {},
   "source": [
    "##Conclusions\n",
    "- I demonstrated the use of a trained random forest model to categorize uncategorized dogs for adoption based on key features.\n",
    "- "
   ]
  },
  {
   "cell_type": "code",
   "execution_count": null,
   "metadata": {},
   "outputs": [],
   "source": []
  }
 ],
 "metadata": {
  "kernelspec": {
   "display_name": "Python 3 (ipykernel)",
   "language": "python",
   "name": "python3"
  },
  "language_info": {
   "codemirror_mode": {
    "name": "ipython",
    "version": 3
   },
   "file_extension": ".py",
   "mimetype": "text/x-python",
   "name": "python",
   "nbconvert_exporter": "python",
   "pygments_lexer": "ipython3",
   "version": "3.9.6"
  }
 },
 "nbformat": 4,
 "nbformat_minor": 4
}
